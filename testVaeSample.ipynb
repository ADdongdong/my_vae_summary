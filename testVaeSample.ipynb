{
 "cells": [
  {
   "cell_type": "code",
   "execution_count": 1,
   "metadata": {},
   "outputs": [],
   "source": [
    "import torch\n",
    "import numpy as np\n",
    "from vae import VAE\n",
    "import utils\n",
    "import torchvision"
   ]
  },
  {
   "cell_type": "code",
   "execution_count": 2,
   "metadata": {},
   "outputs": [],
   "source": [
    "# 加载模型\n",
    "def load_model(modelpath:str):\n",
    "    # 先创建一个模型\n",
    "    vae = VAE(input_size=784, latent_size=10, hidden_size=200)\n",
    "    # 然后将参数放入模型中\n",
    "    vae.load_state_dict(torch.load(modelpath))\n",
    "    # 返回载入参数的模型\n",
    "    return vae\n",
    "\n",
    "# 生成数据\n",
    "def generate_img(model,num_sample,mu,sigma):\n",
    "    for i in range(num_sample):\n",
    "        generated_images = model.sample(mu, sigma)\n",
    "        # 转换为Numpy数组\n",
    "        imgs = utils.to_img(generated_images.detach())\n",
    "        path = f\"./img/generate_vea_img/{i}.png\"\n",
    "        torchvision.utils.save_image(imgs, path, nrow=10)\n",
    "        print(\"save:\", path, \"\\n\")\n",
    "\n"
   ]
  },
  {
   "cell_type": "code",
   "execution_count": 3,
   "metadata": {},
   "outputs": [
    {
     "name": "stdout",
     "output_type": "stream",
     "text": [
      "save: ./img/generate_vea_img/0.png \n",
      "\n",
      "save: ./img/generate_vea_img/1.png \n",
      "\n",
      "save: ./img/generate_vea_img/2.png \n",
      "\n",
      "save: ./img/generate_vea_img/3.png \n",
      "\n",
      "save: ./img/generate_vea_img/4.png \n",
      "\n",
      "save: ./img/generate_vea_img/5.png \n",
      "\n",
      "save: ./img/generate_vea_img/6.png \n",
      "\n",
      "save: ./img/generate_vea_img/7.png \n",
      "\n",
      "save: ./img/generate_vea_img/8.png \n",
      "\n",
      "save: ./img/generate_vea_img/9.png \n",
      "\n"
     ]
    }
   ],
   "source": [
    "# 导入均值和方差数据\n",
    "\n",
    "mu = torch.load('./mu_path.pth')\n",
    "sigma = torch.load('./sigma_path.pth')\n",
    "\n",
    "vae_model_path = './model_weights/vae/vae_weights.pth'\n",
    "vae_model = load_model(vae_model_path)\n",
    "generate_img(vae_model, 10, mu, sigma)"
   ]
  }
 ],
 "metadata": {
  "kernelspec": {
   "display_name": "pytorch",
   "language": "python",
   "name": "python3"
  },
  "language_info": {
   "codemirror_mode": {
    "name": "ipython",
    "version": 3
   },
   "file_extension": ".py",
   "mimetype": "text/x-python",
   "name": "python",
   "nbconvert_exporter": "python",
   "pygments_lexer": "ipython3",
   "version": "3.9.0"
  }
 },
 "nbformat": 4,
 "nbformat_minor": 2
}
